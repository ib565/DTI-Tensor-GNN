{
 "cells": [
  {
   "cell_type": "code",
   "execution_count": 2,
   "metadata": {},
   "outputs": [
    {
     "name": "stdout",
     "output_type": "stream",
     "text": [
      "Loading data...\n",
      "DWI data shape: (145, 174, 145, 288)\n",
      "Mask shape: (145, 174, 145)\n"
     ]
    }
   ],
   "source": [
    "import numpy as np\n",
    "import nibabel as nib\n",
    "from dipy.io import read_bvals_bvecs\n",
    "from dipy.core.gradients import gradient_table\n",
    "from dipy.reconst.dti import TensorModel\n",
    "\n",
    "# Load data same as before\n",
    "print(\"Loading data...\")\n",
    "subject_path = r'diffusion_data\\100206\\T1w\\Diffusion'\n",
    "dwi_img = nib.load(f'{subject_path}/data.nii.gz')\n",
    "mask_img = nib.load(f'{subject_path}/nodif_brain_mask.nii.gz')\n",
    "\n",
    "dwi_data = dwi_img.get_fdata()\n",
    "mask = mask_img.get_fdata()\n",
    "print(f\"DWI data shape: {dwi_data.shape}\")  # Should be (X, Y, Z, num_volumes)\n",
    "print(f\"Mask shape: {mask.shape}\")          # Should be (X, Y, Z)"
   ]
  },
  {
   "cell_type": "code",
   "execution_count": 3,
   "metadata": {},
   "outputs": [
    {
     "name": "stdout",
     "output_type": "stream",
     "text": [
      "bvals  [   5.  990.  995. 1000. 1005. 1985. 1990. 1995. 2000. 2005. 2010. 2980.\n",
      " 2985. 2990. 2995. 3000. 3005. 3010.]\n",
      "Number of gradient directions: 288\n",
      "\n",
      "Fitting tensors...\n",
      "\n",
      "Extracting tensor components...\n",
      "Tensor components shape: (145, 174, 145, 6)\n",
      "145\n",
      "\n",
      "Number of valid voxels: 936256\n",
      "Ground truth tensors shape: (936256, 6)\n",
      "\n",
      "Sanity checks:\n",
      "Max tensor value: 0.9277241152652518\n",
      "Min tensor value: -0.0177660944769268\n"
     ]
    }
   ],
   "source": [
    "# Load and create gradient table\n",
    "bvals, bvecs = read_bvals_bvecs(f'{subject_path}/bvals', \n",
    "                               f'{subject_path}/bvecs')\n",
    "print(\"bvals \", np.unique(bvals))\n",
    "b0_b1000_mask = (bvals < 10) | ((bvals >= 990) & (bvals <= 1010))\n",
    "filtered_bvals = bvals[b0_b1000_mask]\n",
    "filtered_bvecs = bvecs[b0_b1000_mask, :]\n",
    "gtab = gradient_table(filtered_bvals, filtered_bvecs)\n",
    "# print(gtab.bvals)\n",
    "print(f\"Number of gradient directions: {len(bvals)}\")\n",
    "\n",
    "# Normalize the data by b0\n",
    "# print(\"\\nNormalizing data...\")\n",
    "# b0_mask = gtab.b0s_mask\n",
    "# b0_data = dwi_data[..., b0_mask]\n",
    "# # b0_avg = np.mean(b0_data, axis=-1)\n",
    "\n",
    "\n",
    "filtered_dwi_data = dwi_data[..., b0_b1000_mask]\n",
    "\n",
    "# Fit tensors using all directions\n",
    "print(\"\\nFitting tensors...\")\n",
    "tensor_model = TensorModel(gtab)\n",
    "tensor_fit = tensor_model.fit(filtered_dwi_data, mask=mask)\n",
    "\n",
    "# Extract tensor components\n",
    "# DTI tensor is symmetric, so we only need 6 components\n",
    "print(\"\\nExtracting tensor components...\")\n",
    "tensor_components = tensor_fit.lower_triangular()\n",
    "print(f\"Tensor components shape: {tensor_components.shape}\")  # Should be (X, Y, Z, 6)\n",
    "\n",
    "# Get valid voxel indices from mask\n",
    "valid_idx = np.where(mask > 0)\n",
    "print(len(tensor_components))\n",
    "print(f\"\\nNumber of valid voxels: {len(valid_idx[0])}\")\n",
    "\n",
    "# Extract tensors for valid voxels\n",
    "ground_truth_tensors = tensor_components[valid_idx]\n",
    "print(f\"Ground truth tensors shape: {ground_truth_tensors.shape}\")  # Should be (n_valid_voxels, 6)\n",
    "\n",
    "# Basic sanity checks\n",
    "print(\"\\nSanity checks:\")\n",
    "print(f\"Max tensor value: {np.max(ground_truth_tensors)}\")\n",
    "print(f\"Min tensor value: {np.min(ground_truth_tensors)}\")\n",
    "\n",
    "# Optional: Save coordinates of valid voxels for reference\n",
    "valid_coordinates = np.array(valid_idx).T  # Shape: (n_valid_voxels, 3)\n",
    "\n",
    "# Save ground truth data\n",
    "# print(\"\\nSaving ground truth data...\")\n",
    "# np.savez('ground_truth_v2.npz',\n",
    "#          tensors=ground_truth_tensors,\n",
    "#          coordinates=valid_coordinates)"
   ]
  },
  {
   "cell_type": "code",
   "execution_count": 28,
   "metadata": {},
   "outputs": [
    {
     "data": {
      "text/plain": [
       "(array([ 12,  12,  12, ..., 130, 130, 130], dtype=int64),\n",
       " array([84, 84, 84, ..., 91, 91, 91], dtype=int64),\n",
       " array([55, 56, 57, ..., 45, 46, 47], dtype=int64))"
      ]
     },
     "execution_count": 28,
     "metadata": {},
     "output_type": "execute_result"
    }
   ],
   "source": [
    "valid_idx"
   ]
  }
 ],
 "metadata": {
  "kernelspec": {
   "display_name": "neuro",
   "language": "python",
   "name": "python3"
  },
  "language_info": {
   "codemirror_mode": {
    "name": "ipython",
    "version": 3
   },
   "file_extension": ".py",
   "mimetype": "text/x-python",
   "name": "python",
   "nbconvert_exporter": "python",
   "pygments_lexer": "ipython3",
   "version": "3.12.3"
  }
 },
 "nbformat": 4,
 "nbformat_minor": 2
}
